{
 "cells": [
  {
   "cell_type": "code",
   "execution_count": 68,
   "metadata": {},
   "outputs": [],
   "source": [
    "import numpy as np\n",
    "import sys\n",
    "from numpy import savetxt\n",
    "import pandas as pd\n",
    "import os\n",
    "import glob"
   ]
  },
  {
   "cell_type": "code",
   "execution_count": 21,
   "metadata": {},
   "outputs": [],
   "source": [
    "def listdir_nohidden(path):\n",
    "    '''\n",
    "    To ignore hidden files from os.listdir.\n",
    "    Returns only 'nonhidden files' from directory\n",
    "    --> the glob pattern * matches all files that are NOT hidden\n",
    "    '''\n",
    "    return glob.glob(os.path.join(path, '*'))\n",
    "\n",
    "p = \"/Users/ila/01-Unibo/archive/02_Lab2/files_lab2_project/all_data/trainingset/seqprofile_training\"\n",
    "\n",
    "def makeSVMfile(ids_file,ws,outfolder):\n",
    "    '''\n",
    "    Input: (1) ids file (2) window size, (3) out folder.\n",
    "    Reads ids from ids_file\n",
    "    '''\n",
    "    with open(ids_file,\"r\")as ids:\n",
    "        ids_file=ids.readlines()\n",
    "        for id in ids_file:\n",
    "            filename=id.rstrip()\n",
    "            seqid=filename[:-3]\n",
    "            with open(\"/Users/ila/01-Unibo/archive/02_Lab2/files_lab2_project/all_data/trainingset/seqprofile_training/\"+seqid+\".profile\",\"r\")as seqprof,open(\"/home/um21/finalproject_data/ss_filesBTS/\"+seqid+\".dssp\",\"r\")as ss:\n",
    "                proflines=seqprof.readlines()\n",
    "                sslines=ss.readlines()[1]\n",
    "                sslines=sslines.rstrip()\n",
    "                SVMlines=[]\n",
    "                array_index=np.zeros((ws,20))\n",
    "                ind=1\n",
    "                for i in range(ws):\n",
    "                    for j in range(20):\n",
    "                    #Creates a numpy array containing the indexes of the residue.\n",
    "                        array_index[i,j]=int(ind)\n",
    "                        ind+=1\n",
    "                array_index=array_index.astype(int)\n",
    "                #print(array_index)"
   ]
  },
  {
   "cell_type": "markdown",
   "metadata": {},
   "source": [
    "# Profile Directory:\n",
    "\n",
    "        /Users/ila/01-Unibo/archive/02_Lab2/files_lab2_project/all_data/trainingset/seqprofile_training/\n",
    "        \n",
    "# DSSP Directory \n",
    "        \n",
    "        /Users/ila/01-Unibo/archive/02_Lab2/files_lab2_project/all_data/trainingset/dssp/"
   ]
  },
  {
   "cell_type": "markdown",
   "metadata": {},
   "source": [
    "# Training splits:"
   ]
  },
  {
   "cell_type": "code",
   "execution_count": 13,
   "metadata": {},
   "outputs": [
    {
     "name": "stdout",
     "output_type": "stream",
     "text": [
      "     965\n"
     ]
    }
   ],
   "source": [
    "!cat /Users/ila/01-Unibo/archive/02_Lab2/files_lab2_project/all_data/trainingset/cv_ids_clean/training/train_4 | wc -l"
   ]
  },
  {
   "cell_type": "code",
   "execution_count": 14,
   "metadata": {},
   "outputs": [
    {
     "name": "stdout",
     "output_type": "stream",
     "text": [
      "     961\n"
     ]
    }
   ],
   "source": [
    "!cat /Users/ila/01-Unibo/archive/02_Lab2/files_lab2_project/all_data/trainingset/cv_ids_clean/training/train_3 | wc -l"
   ]
  },
  {
   "cell_type": "code",
   "execution_count": 17,
   "metadata": {},
   "outputs": [
    {
     "name": "stdout",
     "output_type": "stream",
     "text": [
      "     970\n"
     ]
    }
   ],
   "source": [
    "!cat /Users/ila/01-Unibo/archive/02_Lab2/files_lab2_project/all_data/trainingset/cv_ids_clean/training/train_2 | wc -l"
   ]
  },
  {
   "cell_type": "code",
   "execution_count": 18,
   "metadata": {},
   "outputs": [
    {
     "name": "stdout",
     "output_type": "stream",
     "text": [
      "     960\n"
     ]
    }
   ],
   "source": [
    "!cat /Users/ila/01-Unibo/archive/02_Lab2/files_lab2_project/all_data/trainingset/cv_ids_clean/training/train_1 | wc -l"
   ]
  },
  {
   "cell_type": "code",
   "execution_count": 20,
   "metadata": {},
   "outputs": [
    {
     "name": "stdout",
     "output_type": "stream",
     "text": [
      "     960\n"
     ]
    }
   ],
   "source": [
    "!cat /Users/ila/01-Unibo/archive/02_Lab2/files_lab2_project/all_data/trainingset/cv_ids_clean/training/train_0 | wc -l"
   ]
  },
  {
   "cell_type": "markdown",
   "metadata": {},
   "source": [
    "# Testing splits:"
   ]
  },
  {
   "cell_type": "code",
   "execution_count": 23,
   "metadata": {},
   "outputs": [
    {
     "name": "stdout",
     "output_type": "stream",
     "text": [
      "     239\n"
     ]
    }
   ],
   "source": [
    "!cat /Users/ila/01-Unibo/archive/02_Lab2/files_lab2_project/all_data/trainingset/cv_ids_clean/testing/test_set4 | wc -l"
   ]
  },
  {
   "cell_type": "code",
   "execution_count": 24,
   "metadata": {},
   "outputs": [
    {
     "name": "stdout",
     "output_type": "stream",
     "text": [
      "     243\n"
     ]
    }
   ],
   "source": [
    "!cat /Users/ila/01-Unibo/archive/02_Lab2/files_lab2_project/all_data/trainingset/cv_ids_clean/testing/test_set3 | wc -l"
   ]
  },
  {
   "cell_type": "code",
   "execution_count": 25,
   "metadata": {},
   "outputs": [
    {
     "name": "stdout",
     "output_type": "stream",
     "text": [
      "     234\n"
     ]
    }
   ],
   "source": [
    "!cat /Users/ila/01-Unibo/archive/02_Lab2/files_lab2_project/all_data/trainingset/cv_ids_clean/testing/test_set2 | wc -l"
   ]
  },
  {
   "cell_type": "code",
   "execution_count": 26,
   "metadata": {},
   "outputs": [
    {
     "name": "stdout",
     "output_type": "stream",
     "text": [
      "     244\n"
     ]
    }
   ],
   "source": [
    "!cat /Users/ila/01-Unibo/archive/02_Lab2/files_lab2_project/all_data/trainingset/cv_ids_clean/testing/test_set1 | wc -l"
   ]
  },
  {
   "cell_type": "code",
   "execution_count": 28,
   "metadata": {},
   "outputs": [
    {
     "name": "stdout",
     "output_type": "stream",
     "text": [
      "     244\n"
     ]
    }
   ],
   "source": [
    "!cat /Users/ila/01-Unibo/archive/02_Lab2/files_lab2_project/all_data/trainingset/cv_ids_clean/testing/test_set0 | wc -l"
   ]
  },
  {
   "cell_type": "code",
   "execution_count": 29,
   "metadata": {},
   "outputs": [
    {
     "name": "stdout",
     "output_type": "stream",
     "text": [
      "d2pbka_\n",
      "d2h6fa1\n",
      "d3ueja_\n",
      "d1t2da2\n",
      "d1ds1a_\n",
      "d1cfza_\n",
      "d1vaja1\n",
      "d3os4a2\n",
      "d1j5ua_\n",
      "d1y0pa3\n"
     ]
    }
   ],
   "source": [
    "!head /Users/ila/01-Unibo/archive/02_Lab2/files_lab2_project/all_data/trainingset/cv_ids_clean/training/train_4 "
   ]
  },
  {
   "cell_type": "code",
   "execution_count": 31,
   "metadata": {},
   "outputs": [],
   "source": [
    "def listdir_nohidden(path):\n",
    "    '''\n",
    "    To ignore hidden files from os.listdir.\n",
    "    Returns only 'nonhidden files' from directory\n",
    "    --> the glob pattern * matches all files that are NOT hidden\n",
    "    '''\n",
    "    return glob.glob(os.path.join(path, '*'))"
   ]
  },
  {
   "cell_type": "code",
   "execution_count": 33,
   "metadata": {},
   "outputs": [
    {
     "data": {
      "text/plain": [
       "['/Users/ila/01-Unibo/00_BDP1/BDP-project/test_files/profiles/d4klia1.profile',\n",
       " '/Users/ila/01-Unibo/00_BDP1/BDP-project/test_files/profiles/e1mtp.1A.profile']"
      ]
     },
     "execution_count": 33,
     "metadata": {},
     "output_type": "execute_result"
    }
   ],
   "source": [
    "listdir_nohidden('/Users/ila/01-Unibo/00_BDP1/BDP-project/test_files/profiles/')"
   ]
  },
  {
   "cell_type": "code",
   "execution_count": 34,
   "metadata": {},
   "outputs": [
    {
     "data": {
      "text/plain": [
       "['/Users/ila/01-Unibo/00_BDP1/BDP-project/test_files/dssp/d4klia1.dssp',\n",
       " '/Users/ila/01-Unibo/00_BDP1/BDP-project/test_files/dssp/e1mtp.1A.dssp']"
      ]
     },
     "execution_count": 34,
     "metadata": {},
     "output_type": "execute_result"
    }
   ],
   "source": [
    "listdir_nohidden('/Users/ila/01-Unibo/00_BDP1/BDP-project/test_files/dssp/')"
   ]
  },
  {
   "cell_type": "code",
   "execution_count": 48,
   "metadata": {},
   "outputs": [],
   "source": [
    "\n",
    "l1 = \"0.   0.   0.   0.   0.   0.   0.   0.   0.   0.   0.   0.   0.   0.   0.   0.   0.   0.   0.   0.  0.   0.   0.   0.   0.   0.   0.   0.   0.   0.   0.   0.   0.   0.   0.   0.36 0.64 0.   0.   0. 0.   0.   0.   0.   0.   0.   0.   0.   0.   0.2  0.58 0.   0.   0.   0.   0.   0.   0.   0.   0.21\"\n",
    " "
   ]
  },
  {
   "cell_type": "code",
   "execution_count": 49,
   "metadata": {},
   "outputs": [],
   "source": [
    "new1 = l1.split()\n",
    "new1\n",
    "\n",
    "new2 = l2.split()\n",
    "new3 = l3.split()\n"
   ]
  },
  {
   "cell_type": "code",
   "execution_count": 50,
   "metadata": {},
   "outputs": [
    {
     "name": "stdout",
     "output_type": "stream",
     "text": [
      "['0.', '0.', '0.', '0.', '0.', '0.', '0.', '0.', '0.', '0.', '0.', '0.', '0.', '0.', '0.', '0.', '0.', '0.', '0.', '0.', '0.', '0.', '0.', '0.', '0.', '0.', '0.', '0.', '0.', '0.', '0.', '0.', '0.', '0.', '0.', '0.36', '0.64', '0.', '0.', '0.', '0.', '0.', '0.', '0.', '0.', '0.', '0.', '0.', '0.', '0.2', '0.58', '0.', '0.', '0.', '0.', '0.', '0.', '0.', '0.', '0.21']\n"
     ]
    }
   ],
   "source": [
    "print(new1)"
   ]
  },
  {
   "cell_type": "code",
   "execution_count": 53,
   "metadata": {},
   "outputs": [
    {
     "data": {
      "text/plain": [
       "60"
      ]
     },
     "execution_count": 53,
     "metadata": {},
     "output_type": "execute_result"
    }
   ],
   "source": [
    "len(new1)"
   ]
  },
  {
   "cell_type": "markdown",
   "metadata": {},
   "source": [
    "Zip returns an iterator"
   ]
  },
  {
   "cell_type": "code",
   "execution_count": 56,
   "metadata": {},
   "outputs": [
    {
     "name": "stdout",
     "output_type": "stream",
     "text": [
      "Radowan 0\n",
      "Carles 1\n",
      "Emily 2\n",
      "Maarit 3\n",
      "Juanma 4\n"
     ]
    }
   ],
   "source": [
    "number_list = [1, 2, 3, 4, 5]\n",
    "names_list = ['Radowan', 'Carles', 'Emily', 'Maarit', 'Juanma']\n",
    "\n",
    "for i, j in zip(names_list, range(len(number_list))):\n",
    "    print(i, j)"
   ]
  },
  {
   "cell_type": "code",
   "execution_count": 57,
   "metadata": {},
   "outputs": [
    {
     "name": "stdout",
     "output_type": "stream",
     "text": [
      "Radowan 1\n",
      "Carles 2\n",
      "Emily 3\n",
      "Maarit 4\n",
      "Juanma 5\n"
     ]
    }
   ],
   "source": [
    "for i, j in zip(names_list, number_list):\n",
    "    print(i, j)"
   ]
  },
  {
   "cell_type": "code",
   "execution_count": 62,
   "metadata": {},
   "outputs": [],
   "source": [
    "a = zip(names_list, number_list)\n",
    "a= list(a)"
   ]
  },
  {
   "cell_type": "code",
   "execution_count": 64,
   "metadata": {},
   "outputs": [
    {
     "name": "stdout",
     "output_type": "stream",
     "text": [
      "Radowan 1\n"
     ]
    }
   ],
   "source": [
    "i,j = a[0]\n",
    "print(i,j)"
   ]
  },
  {
   "cell_type": "code",
   "execution_count": 67,
   "metadata": {},
   "outputs": [
    {
     "name": "stdout",
     "output_type": "stream",
     "text": [
      "\u001b[1m\u001b[34mdssp\u001b[m\u001b[m         \u001b[1m\u001b[34mprofiles\u001b[m\u001b[m     two_test_ids\n"
     ]
    }
   ],
   "source": [
    "!ls ../test_files/"
   ]
  },
  {
   "cell_type": "code",
   "execution_count": 70,
   "metadata": {},
   "outputs": [
    {
     "data": {
      "text/plain": [
       "['microtest.profile',\n",
       " 'd4klia1.profile',\n",
       " 'e1mtp.1A.profile',\n",
       " 'tinytest.profile']"
      ]
     },
     "execution_count": 70,
     "metadata": {},
     "output_type": "execute_result"
    }
   ],
   "source": [
    "a = os.listdir('../test_files/profiles/')\n",
    "a"
   ]
  },
  {
   "cell_type": "code",
   "execution_count": 76,
   "metadata": {},
   "outputs": [
    {
     "name": "stdout",
     "output_type": "stream",
     "text": [
      "../test_files/profiles/e1mtp.1A\n",
      ".profile\n",
      "../test_files/profiles/d4klia1\n",
      ".profile\n",
      "../test_files/profiles/\n",
      ".profile\n"
     ]
    }
   ],
   "source": [
    "with open(\"../test_files/two_test_ids\") as idfile_open:\n",
    "    for line in idfile_open:\n",
    "        testpath = os.path.join('../test_files/profiles/', line+'.profile')\n",
    "        print(testpath)"
   ]
  },
  {
   "cell_type": "markdown",
   "metadata": {},
   "source": [
    "==> path.join does NOT remove '\\n'"
   ]
  },
  {
   "cell_type": "code",
   "execution_count": 75,
   "metadata": {},
   "outputs": [
    {
     "name": "stdout",
     "output_type": "stream",
     "text": [
      "../test_files/profiles/e1mtp.1A.profile\n",
      "../test_files/profiles/d4klia1.profile\n",
      "../test_files/profiles/.profile\n"
     ]
    }
   ],
   "source": [
    "with open(\"../test_files/two_test_ids\") as idfile_open:\n",
    "    for line in idfile_open:\n",
    "        testpath = os.path.join('../test_files/profiles/', line.rstrip()+'.profile')\n",
    "        print(testpath)"
   ]
  },
  {
   "cell_type": "code",
   "execution_count": 81,
   "metadata": {},
   "outputs": [],
   "source": [
    "def get_complete_path_incl_ids(id_list):\n",
    "    '''\n",
    "    Args:(1) id_list - contains ids of profiles and ss_dssp_dirs to be opened\n",
    "    Returns:\n",
    "    Rstripped list of ids\n",
    "    '''\n",
    "    rstripped_id_list = []\n",
    "    with open(id_list, 'r') as open_ids:\n",
    "        all_ids = open_ids.readlines()\n",
    "        for i in all_ids:\n",
    "            rstripped_id_list.append(i.rstrip())\n",
    "    print(rstripped_id_list)\n"
   ]
  },
  {
   "cell_type": "code",
   "execution_count": 82,
   "metadata": {},
   "outputs": [
    {
     "name": "stdout",
     "output_type": "stream",
     "text": [
      "['e1mtp.1A', 'd4klia1', '']\n"
     ]
    }
   ],
   "source": [
    "get_complete_path_incl_ids(\"../test_files/two_test_ids\")"
   ]
  },
  {
   "cell_type": "code",
   "execution_count": 89,
   "metadata": {},
   "outputs": [
    {
     "name": "stdout",
     "output_type": "stream",
     "text": [
      "['microtest.profile', 'd4klia1.profile', 'e1mtp.1A.profile', 'tinytest.profile']\n"
     ]
    }
   ],
   "source": [
    "d = os.listdir('../test_files/profiles/')\n",
    "print(d)\n",
    "\n",
    "if \"../test_files/profiles/e1mtp.1A.profile\" in os.listdir('../test_files/profiles/'):\n",
    "    print('yes')"
   ]
  },
  {
   "cell_type": "code",
   "execution_count": 90,
   "metadata": {},
   "outputs": [
    {
     "name": "stdout",
     "output_type": "stream",
     "text": [
      "['microtest.profile', 'd4klia1.profile', 'e1mtp.1A.profile', 'tinytest.profile']\n"
     ]
    }
   ],
   "source": [
    "print(os.listdir('../test_files/profiles/'))"
   ]
  },
  {
   "cell_type": "code",
   "execution_count": 92,
   "metadata": {},
   "outputs": [
    {
     "name": "stdout",
     "output_type": "stream",
     "text": [
      "/Users/ila/01-Unibo/00_BDP1/BDP-project/test_files/profiles\n"
     ]
    }
   ],
   "source": [
    "print(os.path.abspath('../test_files/profiles/'))"
   ]
  },
  {
   "cell_type": "code",
   "execution_count": 95,
   "metadata": {},
   "outputs": [],
   "source": [
    "def get_ids_list(id_list):\n",
    "    '''\n",
    "    Args:(1) id_list - contains ids of profiles and ss_dssp_dirs to be opened\n",
    "    Returns:\n",
    "    Rstripped list of ids\n",
    "    '''\n",
    "    rstripped_id_list = []\n",
    "    with open(id_list, 'r') as open_ids:\n",
    "        all_ids = open_ids.readlines()\n",
    "        for i in all_ids:\n",
    "            rstripped_id_list.append(i.rstrip())\n",
    "    print(rstripped_id_list)"
   ]
  },
  {
   "cell_type": "code",
   "execution_count": 96,
   "metadata": {},
   "outputs": [
    {
     "name": "stdout",
     "output_type": "stream",
     "text": [
      "['e1mtp.1A', 'd4klia1', '']\n"
     ]
    }
   ],
   "source": [
    "get_ids_list(\"../test_files/two_test_ids\")"
   ]
  },
  {
   "cell_type": "code",
   "execution_count": 104,
   "metadata": {},
   "outputs": [],
   "source": [
    "!/Users/ila/01-Unibo/00_BDP1/BDP-project/scripts/svm_training_input_2.py -i /Users/ila/01-Unibo/00_BDP1/BDP-project/test_files/two_test_ids  -p /Users/ila/01-Unibo/00_BDP1/BDP-project/test_files/profiles -s /Users/ila/01-Unibo/00_BDP1/BDP-project/test_files/dssp -o ./monday_train.svm\n",
    "\n"
   ]
  },
  {
   "cell_type": "code",
   "execution_count": 105,
   "metadata": {},
   "outputs": [
    {
     "name": "stdout",
     "output_type": "stream",
     "text": [
      "     320\n"
     ]
    }
   ],
   "source": [
    "!cat monday_train.svm | wc -l"
   ]
  },
  {
   "cell_type": "code",
   "execution_count": 108,
   "metadata": {},
   "outputs": [],
   "source": [
    "!/Users/ila/01-Unibo/00_BDP1/BDP-project/scripts/svm_training_input_2.py -i /Users/ila/01-Unibo/00_BDP1/BDP-project/test_files/two_test_ids  -p /Users/ila/01-Unibo/00_BDP1/BDP-project/test_files/profiles -s /Users/ila/01-Unibo/00_BDP1/BDP-project/test_files/dssp -o ./both_train.svm"
   ]
  },
  {
   "cell_type": "code",
   "execution_count": 109,
   "metadata": {},
   "outputs": [
    {
     "name": "stdout",
     "output_type": "stream",
     "text": [
      "     804\n"
     ]
    }
   ],
   "source": [
    "!cat both_train.svm | wc -l"
   ]
  },
  {
   "cell_type": "markdown",
   "metadata": {},
   "source": [
    "# Large Run for 1 MN and 5 WN"
   ]
  },
  {
   "cell_type": "code",
   "execution_count": 110,
   "metadata": {},
   "outputs": [
    {
     "name": "stdout",
     "output_type": "stream",
     "text": [
      "--- 1.2967246333758036 minutes ---\n"
     ]
    }
   ],
   "source": [
    "!/Users/ila/01-Unibo/00_BDP1/BDP-project/scripts/svm_training_input_2.py -i /Users/ila/01-Unibo/archive/02_Lab2/files_lab2_project/all_data/trainingset/cv_ids_clean/training/train_0 -p /Users/ila/01-Unibo/archive/02_Lab2/files_lab2_project/all_data/trainingset/seqprofile_training -s /Users/ila/01-Unibo/archive/02_Lab2/files_lab2_project/all_data/trainingset/dssp -w 17 -o ../large_svm_input/train0.svm \n",
    "\n"
   ]
  },
  {
   "cell_type": "code",
   "execution_count": 118,
   "metadata": {},
   "outputs": [
    {
     "name": "stdout",
     "output_type": "stream",
     "text": [
      "--- 1.3474599838256835 minutes ---\n",
      "--- 1.4258461833000182 minutes ---\n",
      "--- 1.4109652956326804 minutes ---\n",
      "--- 1.5376471161842347 minutes ---\n",
      "--- 1.4152917822202047 minutes ---\n"
     ]
    }
   ],
   "source": [
    "!/Users/ila/01-Unibo/00_BDP1/BDP-project/scripts/run_generate_train_intput.sh\n"
   ]
  },
  {
   "cell_type": "code",
   "execution_count": 129,
   "metadata": {},
   "outputs": [
    {
     "name": "stdout",
     "output_type": "stream",
     "text": [
      "--- 21.467912912368774 seconds ---\n",
      "--- 22.891101121902466 seconds ---\n",
      "--- 20.150908946990967 seconds ---\n",
      "--- 22.04314398765564 seconds ---\n",
      "--- 19.328698873519897 seconds ---\n"
     ]
    }
   ],
   "source": [
    "!/Users/ila/01-Unibo/00_BDP1/BDP-project/scripts/run_generate_svm_test_input.sh"
   ]
  },
  {
   "cell_type": "markdown",
   "metadata": {},
   "source": [
    "# Noch mal das gleiche aber in klein:\n",
    "\n",
    "1. Generating training files:\n",
    "    * train_job_1\n",
    "    * train_job_2\n",
    "    \n",
    "\n",
    "2. The 2 files are then used to generate one model each.\n",
    "\n",
    "3. Generatgin testing files:\n",
    "    * test_job_1\n",
    "    * test_job_2\n",
    "\n",
    "\n"
   ]
  },
  {
   "cell_type": "markdown",
   "metadata": {},
   "source": [
    "1. Generating training files:\n",
    "    By using 10% of the train_0 and 10% of train_1"
   ]
  },
  {
   "cell_type": "code",
   "execution_count": 119,
   "metadata": {},
   "outputs": [
    {
     "name": "stdout",
     "output_type": "stream",
     "text": [
      "     960\n"
     ]
    }
   ],
   "source": [
    "!cat /Users/ila/01-Unibo/archive/02_Lab2/files_lab2_project/all_data/trainingset/cv_ids_clean/training/train_0 | wc -l"
   ]
  },
  {
   "cell_type": "code",
   "execution_count": 122,
   "metadata": {},
   "outputs": [
    {
     "name": "stdout",
     "output_type": "stream",
     "text": [
      "      96\n"
     ]
    }
   ],
   "source": [
    "!head -96 /Users/ila/01-Unibo/archive/02_Lab2/files_lab2_project/all_data/trainingset/cv_ids_clean/training/train_0 > tiny_train_job"
   ]
  },
  {
   "cell_type": "code",
   "execution_count": 127,
   "metadata": {},
   "outputs": [],
   "source": []
  },
  {
   "cell_type": "code",
   "execution_count": null,
   "metadata": {},
   "outputs": [],
   "source": []
  },
  {
   "cell_type": "code",
   "execution_count": null,
   "metadata": {},
   "outputs": [],
   "source": []
  }
 ],
 "metadata": {
  "kernelspec": {
   "display_name": "Python 3",
   "language": "python",
   "name": "python3"
  },
  "language_info": {
   "codemirror_mode": {
    "name": "ipython",
    "version": 3
   },
   "file_extension": ".py",
   "mimetype": "text/x-python",
   "name": "python",
   "nbconvert_exporter": "python",
   "pygments_lexer": "ipython3",
   "version": "3.7.2"
  }
 },
 "nbformat": 4,
 "nbformat_minor": 4
}
